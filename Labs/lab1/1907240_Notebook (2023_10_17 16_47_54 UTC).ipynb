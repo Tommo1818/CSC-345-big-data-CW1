{
 "cells": [
  {
   "cell_type": "markdown",
   "id": "53fbe4f6",
   "metadata": {},
   "source": [
    "<h1>Thomas Vernon, 17/10/23, 1907230<h1/>"
   ]
  },
  {
   "cell_type": "code",
   "execution_count": 29,
   "id": "e4e57b39",
   "metadata": {},
   "outputs": [],
   "source": [
    "import numpy as np\n",
    "import matplotlib.pyplot as plt"
   ]
  },
  {
   "cell_type": "markdown",
   "id": "f3ad345e",
   "metadata": {},
   "source": [
    "Task 1.1:"
   ]
  },
  {
   "cell_type": "code",
   "execution_count": 34,
   "id": "cff0b234",
   "metadata": {},
   "outputs": [
    {
     "name": "stdout",
     "output_type": "stream",
     "text": [
      "815\n"
     ]
    }
   ],
   "source": [
    "x = 345\n",
    "print(2 * x + 5**3)"
   ]
  },
  {
   "cell_type": "code",
   "execution_count": 4,
   "id": "648d1419",
   "metadata": {},
   "outputs": [
    {
     "name": "stdout",
     "output_type": "stream",
     "text": [
      "hello world!\n"
     ]
    }
   ],
   "source": [
    "print('hello world!')"
   ]
  },
  {
   "cell_type": "code",
   "execution_count": 36,
   "id": "ecb3286a",
   "metadata": {},
   "outputs": [],
   "source": [
    "def f(w,x,b):\n",
    "    return w * x + b"
   ]
  },
  {
   "cell_type": "code",
   "execution_count": 37,
   "id": "513b4b94",
   "metadata": {},
   "outputs": [
    {
     "data": {
      "text/plain": [
       "815"
      ]
     },
     "execution_count": 37,
     "metadata": {},
     "output_type": "execute_result"
    }
   ],
   "source": [
    "f(2,345,5**3)"
   ]
  },
  {
   "cell_type": "markdown",
   "id": "7fee2420",
   "metadata": {},
   "source": [
    "Task 1.2:"
   ]
  },
  {
   "cell_type": "code",
   "execution_count": 13,
   "id": "897c6de0",
   "metadata": {},
   "outputs": [
    {
     "name": "stdout",
     "output_type": "stream",
     "text": [
      "kiwi\n",
      "grape\n",
      "orange\n",
      "banana\n",
      "apple\n"
     ]
    }
   ],
   "source": [
    "strings = [\"apple\", \"banana\", \"orange\", \"grape\", \"kiwi\"]\n",
    "# print strings in reverse order\n",
    "for i in range(len(strings)-1, -1, -1):\n",
    "    print(strings[i])\n",
    "    "
   ]
  },
  {
   "cell_type": "code",
   "execution_count": 4,
   "id": "12cac1e9",
   "metadata": {},
   "outputs": [],
   "source": [
    "def equals_100(x):\n",
    "    if x == 100:\n",
    "        return True\n",
    "    else:\n",
    "        return False"
   ]
  },
  {
   "cell_type": "code",
   "execution_count": 5,
   "id": "acc6cfb2",
   "metadata": {},
   "outputs": [
    {
     "name": "stdout",
     "output_type": "stream",
     "text": [
      "True\n"
     ]
    }
   ],
   "source": [
    "print(equals_100(100))"
   ]
  },
  {
   "cell_type": "code",
   "execution_count": 6,
   "id": "4248de40",
   "metadata": {},
   "outputs": [
    {
     "name": "stdout",
     "output_type": "stream",
     "text": [
      "False\n"
     ]
    }
   ],
   "source": [
    "print(equals_100(99))"
   ]
  },
  {
   "cell_type": "code",
   "execution_count": 43,
   "id": "6615ccc2",
   "metadata": {},
   "outputs": [
    {
     "name": "stdout",
     "output_type": "stream",
     "text": [
      "[2, 5, 10]\n"
     ]
    }
   ],
   "source": [
    "my_dictionary = {\n",
    "    \"data_name\" : \"animal counts\",\n",
    "    \"label\" : [\"cat\", \"dog\", \"fish\"],\n",
    "    \"count\" : [2,5,10],\n",
    "}\n",
    "print(my_dictionary[\"count\"])"
   ]
  },
  {
   "cell_type": "code",
   "execution_count": 63,
   "id": "d5940f19",
   "metadata": {},
   "outputs": [
    {
     "name": "stdout",
     "output_type": "stream",
     "text": [
      "Animal name: dog, count: 5\n"
     ]
    }
   ],
   "source": [
    "print(f\"Animal name: {my_dictionary['label'][1]}, count: {my_dictionary['count'][1]:,}\")"
   ]
  },
  {
   "cell_type": "markdown",
   "id": "614b55c8",
   "metadata": {},
   "source": [
    "Task 1.3:"
   ]
  },
  {
   "cell_type": "code",
   "execution_count": 23,
   "id": "bac9292f",
   "metadata": {},
   "outputs": [
    {
     "name": "stdout",
     "output_type": "stream",
     "text": [
      "[[5 0 3]\n",
      " [3 7 9]]\n",
      "[[3 5 2 4]\n",
      " [7 6 8 8]\n",
      " [1 6 7 7]]\n"
     ]
    }
   ],
   "source": [
    "np.random.seed(0)\n",
    "my_array = np.random.randint(10, size=(2,3))\n",
    "my_array2 = np.random.randint(10, size=(3,4))\n",
    "print(my_array)\n",
    "print(my_array2)"
   ]
  },
  {
   "cell_type": "code",
   "execution_count": 25,
   "id": "e5d75eb7",
   "metadata": {},
   "outputs": [
    {
     "name": "stdout",
     "output_type": "stream",
     "text": [
      "[[ 18  43  31  41]\n",
      " [ 67 111 125 131]]\n"
     ]
    }
   ],
   "source": [
    "arr_result = np.matmul(my_array, my_array2)\n",
    "print(arr_result)"
   ]
  },
  {
   "cell_type": "code",
   "execution_count": 26,
   "id": "10fc7143",
   "metadata": {},
   "outputs": [
    {
     "name": "stdout",
     "output_type": "stream",
     "text": [
      "[18 67]\n"
     ]
    }
   ],
   "source": [
    "print(arr_result[:,0])"
   ]
  },
  {
   "cell_type": "markdown",
   "id": "2ad09914",
   "metadata": {},
   "source": [
    "Task 1.4:"
   ]
  },
  {
   "cell_type": "code",
   "execution_count": 31,
   "id": "e106a28a",
   "metadata": {},
   "outputs": [],
   "source": [
    "data = np.load('Iris_data.npy')\n",
    "\n"
   ]
  },
  {
   "cell_type": "code",
   "execution_count": 33,
   "id": "e495f72e",
   "metadata": {},
   "outputs": [
    {
     "data": {
      "image/png": "[encoded data removed]",
      "text/plain": [
       "<Figure size 640x480 with 1 Axes>"
      ]
     },
     "metadata": {},
     "output_type": "display_data"
    }
   ],
   "source": [
    "#create a scatter plot of the data\n",
    "plt.scatter(data[:,0], data[:,1])\n",
    "plt.title(\"Fisher's Iris Data\")\n",
    "plt.xlabel(\"Sepal Length (cm)\")\n",
    "plt.ylabel(\"Sepal Width (cm)\")\n",
    "plt.show()"
   ]
  },
  {
   "cell_type": "code",
   "execution_count": null,
   "metadata": {},
   "outputs": [],
   "source": []
  }
 ],
 "metadata": {
  "kernelspec": {
   "display_name": "Python 3 (ipykernel)",
   "language": "python",
   "name": "python3"
  },
  "language_info": {
   "codemirror_mode": {
    "name": "ipython",
    "version": 3
   },
   "file_extension": ".py",
   "mimetype": "text/x-python",
   "name": "python",
   "nbconvert_exporter": "python",
   "pygments_lexer": "ipython3",
   "version": "3.11.5"
  }
 },
 "nbformat": 4,
 "nbformat_minor": 5
}
