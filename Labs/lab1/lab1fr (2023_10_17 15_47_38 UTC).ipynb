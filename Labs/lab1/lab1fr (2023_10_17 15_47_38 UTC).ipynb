{
 "cells": [
  {
   "cell_type": "markdown",
   "id": "1d5d0995",
   "metadata": {},
   "source": [
    "<h1>Thomas Vernon, 17/10/23, 1907230<h1/>"
   ]
  },
  {
   "cell_type": "code",
   "execution_count": 3,
   "id": "d632c151",
   "metadata": {},
   "outputs": [
    {
     "name": "stdout",
     "output_type": "stream",
     "text": [
      "692\n"
     ]
    }
   ],
   "source": [
    "x = 345\n",
    "print(2 * x + 5^3)"
   ]
  },
  {
   "cell_type": "code",
   "execution_count": 4,
   "id": "78c2737b",
   "metadata": {},
   "outputs": [
    {
     "name": "stdout",
     "output_type": "stream",
     "text": [
      "hello world!\n"
     ]
    }
   ],
   "source": [
    "print('hello world!')"
   ]
  },
  {
   "cell_type": "code",
   "execution_count": 5,
   "id": "544e3d12",
   "metadata": {},
   "outputs": [],
   "source": [
    "def f(w,x,b):\n",
    "    return w * x + b"
   ]
  },
  {
   "cell_type": "code",
   "execution_count": 6,
   "id": "28319add",
   "metadata": {},
   "outputs": [
    {
     "data": {
      "text/plain": [
       "696"
      ]
     },
     "execution_count": 6,
     "metadata": {},
     "output_type": "execute_result"
    }
   ],
   "source": [
    "f(2,345,5^3)"
   ]
  },
  {
   "cell_type": "code",
   "execution_count": null,
   "id": "56c56c26",
   "metadata": {},
   "outputs": [],
   "source": [
    "strings = [\"apple\", \"banana\", \"orange\"]"
   ]
  }
 ],
 "metadata": {
  "kernelspec": {
   "display_name": "Python 3 (ipykernel)",
   "language": "python",
   "name": "python3"
  },
  "language_info": {
   "codemirror_mode": {
    "name": "ipython",
    "version": 3
   },
   "file_extension": ".py",
   "mimetype": "text/x-python",
   "name": "python",
   "nbconvert_exporter": "python",
   "pygments_lexer": "ipython3",
   "version": "3.11.5"
  }
 },
 "nbformat": 4,
 "nbformat_minor": 5
}
