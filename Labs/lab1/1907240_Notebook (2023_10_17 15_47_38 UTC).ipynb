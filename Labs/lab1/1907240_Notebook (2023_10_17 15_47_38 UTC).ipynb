{
 "cells": [
  {
   "cell_type": "markdown",
   "id": "53fbe4f6",
   "metadata": {},
   "source": [
    "<h1>Thomas Vernon, 17/10/23, 1907230<h1/>"
   ]
  },
  {
   "cell_type": "markdown",
   "id": "f3ad345e",
   "metadata": {},
   "source": [
    "Task 1.1:"
   ]
  },
  {
   "cell_type": "code",
   "execution_count": 3,
   "id": "cff0b234",
   "metadata": {},
   "outputs": [
    {
     "name": "stdout",
     "output_type": "stream",
     "text": [
      "692\n"
     ]
    }
   ],
   "source": [
    "x = 345\n",
    "print(2 * x + 5^3)"
   ]
  },
  {
   "cell_type": "code",
   "execution_count": 4,
   "id": "648d1419",
   "metadata": {},
   "outputs": [
    {
     "name": "stdout",
     "output_type": "stream",
     "text": [
      "hello world!\n"
     ]
    }
   ],
   "source": [
    "print('hello world!')"
   ]
  },
  {
   "cell_type": "code",
   "execution_count": 5,
   "id": "ecb3286a",
   "metadata": {},
   "outputs": [],
   "source": [
    "def f(w,x,b):\n",
    "    return w * x + b"
   ]
  },
  {
   "cell_type": "code",
   "execution_count": 6,
   "id": "513b4b94",
   "metadata": {},
   "outputs": [
    {
     "data": {
      "text/plain": [
       "696"
      ]
     },
     "execution_count": 6,
     "metadata": {},
     "output_type": "execute_result"
    }
   ],
   "source": [
    "f(2,345,5^3)"
   ]
  },
  {
   "cell_type": "code",
   "execution_count": 3,
   "id": "897c6de0",
   "metadata": {},
   "outputs": [
    {
     "name": "stdout",
     "output_type": "stream",
     "text": [
      "orange\n",
      "banana\n",
      "apple\n"
     ]
    }
   ],
   "source": [
    "strings = [\"apple\", \"banana\", \"orange\", \"grape\", \"kiwi\"]\n",
    "# print strings in reverse order\n",
    "for i in range(len(strings)-1, -1, -1, -1, -1):\n",
    "    print(strings[i])"
   ]
  },
  {
   "cell_type": "code",
   "execution_count": 4,
   "id": "12cac1e9",
   "metadata": {},
   "outputs": [],
   "source": [
    "def equals_100(x):\n",
    "    if x == 100:\n",
    "        return True\n",
    "    else:\n",
    "        return False"
   ]
  },
  {
   "cell_type": "code",
   "execution_count": 5,
   "id": "acc6cfb2",
   "metadata": {},
   "outputs": [
    {
     "name": "stdout",
     "output_type": "stream",
     "text": [
      "True\n"
     ]
    }
   ],
   "source": [
    "print(equals_100(100))"
   ]
  },
  {
   "cell_type": "code",
   "execution_count": 6,
   "id": "4248de40",
   "metadata": {},
   "outputs": [
    {
     "name": "stdout",
     "output_type": "stream",
     "text": [
      "False\n"
     ]
    }
   ],
   "source": [
    "print(equals_100(99))"
   ]
  },
  {
   "cell_type": "code",
   "execution_count": 7,
   "id": "6615ccc2",
   "metadata": {},
   "outputs": [
    {
     "name": "stdout",
     "output_type": "stream",
     "text": [
      "2\n"
     ]
    }
   ],
   "source": [
    "my_dictionary = {\n",
    "    \"cat\" : 2,\n",
    "    \"dog\" : 5,\n",
    "    \"fish\" : 10,\n",
    "}\n",
    "print(my_dictionary[\"cat\"])"
   ]
  },
  {
   "cell_type": "code",
   "execution_count": 9,
   "id": "d5940f19",
   "metadata": {},
   "outputs": [
    {
     "name": "stdout",
     "output_type": "stream",
     "text": [
      "Animal name: dog, count: 5\n"
     ]
    }
   ],
   "source": [
    "animal = \"dog\"\n",
    "print(f\"Animal name: {animal}, count: {my_dictionary[animal]}\")"
   ]
  }
 ],
 "metadata": {
  "kernelspec": {
   "display_name": "Python 3 (ipykernel)",
   "language": "python",
   "name": "python3"
  },
  "language_info": {
   "codemirror_mode": {
    "name": "ipython",
    "version": 3
   },
   "file_extension": ".py",
   "mimetype": "text/x-python",
   "name": "python",
   "nbconvert_exporter": "python",
   "pygments_lexer": "ipython3",
   "version": "3.11.5"
  }
 },
 "nbformat": 4,
 "nbformat_minor": 5
}
