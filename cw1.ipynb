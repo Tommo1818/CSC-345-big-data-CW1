{
 "cells": [
  {
   "cell_type": "markdown",
   "metadata": {},
   "source": [
    "<h1>CW1 Big Data 1907240"
   ]
  },
  {
   "cell_type": "markdown",
   "metadata": {},
   "source": [
    "imports"
   ]
  },
  {
   "cell_type": "code",
   "execution_count": 64,
   "metadata": {},
   "outputs": [],
   "source": [
    "import numpy as np\n",
    "import matplotlib.pyplot as plt\n",
    "import skimage.feature\n",
    "import tensorflow as tf\n",
    "import tensorboard\n",
    "import datetime\n",
    "from skimage.feature import hog"
   ]
  },
  {
   "cell_type": "markdown",
   "metadata": {},
   "source": [
    "Load images and labels"
   ]
  },
  {
   "cell_type": "code",
   "execution_count": 65,
   "metadata": {},
   "outputs": [],
   "source": [
    "trn_images = np.load('trnImage.npy')\n",
    "trn_labels = np.load('trnLabel.npy')\n",
    "trn_labelsfine = np.load('trnLabel_fine.npy')\n",
    "trn_labelscoarse = np.load('trnLabel_coarse.npy')\n",
    "\n",
    "tst_images = np.load('tstImage.npy')\n",
    "tst_labels = np.load('tstLabel.npy')\n",
    "tst_labelsfine = np.load('tstLabel_fine.npy')\n",
    "tst_labelscoarse = np.load('tstLabel_coarse.npy')\n",
    "\n",
    "#load the label names from the csv file\n",
    "labelnamesfine = np.genfromtxt('fine_labels.csv', delimiter=',', \n",
    "                               dtype=None, encoding=None)\n",
    "labelnamescoarse = np.genfromtxt('coarse_labels.csv', delimiter=',', \n",
    "                                 dtype=None, encoding=None)\n"
   ]
  },
  {
   "cell_type": "code",
   "execution_count": 66,
   "metadata": {},
   "outputs": [
    {
     "name": "stdout",
     "output_type": "stream",
     "text": [
      "20\n"
     ]
    }
   ],
   "source": [
    "print(len(labelnamescoarse))"
   ]
  },
  {
   "cell_type": "markdown",
   "metadata": {},
   "source": [
    "try load a single image and print its fine and coarse labels"
   ]
  },
  {
   "cell_type": "code",
   "execution_count": 67,
   "metadata": {},
   "outputs": [
    {
     "data": {
      "image/png": "[encoded data removed]",
      "text/plain": [
       "<Figure size 640x480 with 1 Axes>"
      ]
     },
     "metadata": {},
     "output_type": "display_data"
    },
    {
     "name": "stdout",
     "output_type": "stream",
     "text": [
      "fine label: chimpanzee\n",
      "coarse label: large omnivores and herbivores\n"
     ]
    }
   ],
   "source": [
    "image_index = 34 # pick a specific image\n",
    "image = trn_images[:, :, :, image_index]\n",
    "#display the image\n",
    "plt.imshow(image, cmap='gray')\n",
    "plt.show()\n",
    "#get the images fine label index\n",
    "labelfine = trn_labelsfine[image_index]\n",
    "#get the images coarse label index\n",
    "labelcoarse = trn_labelscoarse[image_index]\n",
    "#get the images fine label name\n",
    "labelfinename = labelnamesfine[labelfine]\n",
    "#get the images coarse label name\n",
    "labelcoarsename = labelnamescoarse[labelcoarse]\n",
    "print('fine label:',labelfinename)\n",
    "print('coarse label:',labelcoarsename)\n"
   ]
  },
  {
   "cell_type": "code",
   "execution_count": 68,
   "metadata": {},
   "outputs": [
    {
     "name": "stdout",
     "output_type": "stream",
     "text": [
      "(32, 32, 3, 50000)\n"
     ]
    }
   ],
   "source": [
    "print (trn_images.shape)"
   ]
  },
  {
   "cell_type": "code",
   "execution_count": 69,
   "metadata": {},
   "outputs": [
    {
     "name": "stdout",
     "output_type": "stream",
     "text": [
      "(50000, 3072)\n",
      "(50000,)\n"
     ]
    }
   ],
   "source": [
    "#transpose the data to be in the correct format (32, 32, 3, 50000) to (50000, 32, 32, 3)\n",
    "trn_images = trn_images.transpose(3, 0, 1, 2)\n",
    "\n",
    "# flatten the data\n",
    "trn_images = trn_images.reshape(50000, 3072)\n",
    "\n",
    "#normalise the data\n",
    "trn_images = trn_images / 255.0\n",
    "\n",
    "print(trn_images.shape)\n",
    "print(trn_labelscoarse.shape)\n",
    "\n",
    "#reshape to be in the correct format for the model\n",
    "trn_images = trn_images.reshape(50000, 32, 32, 3)\n",
    "\n",
    "# clear the previous model\n",
    "tf.keras.backend.clear_session()\n",
    "\n",
    "# build the model\n",
    "model = tf.keras.models.Sequential()\n",
    "model.add(tf.keras.layers.Conv2D(32, (3, 3), activation='relu', input_shape=(32, 32, 3)))\n",
    "model.add(tf.keras.layers.MaxPooling2D((2, 2)))\n",
    "model.add(tf.keras.layers.Dropout(0.5))\n",
    "model.add(tf.keras.layers.Flatten())\n",
    "model.add(tf.keras.layers.Dense(128, activation='relu'))\n",
    "model.add(tf.keras.layers.Dense(20, activation='softmax')) \n",
    "\n",
    "# compile the model\n",
    "model.compile(optimizer='adam', loss='sparse_categorical_crossentropy', metrics=['accuracy'])"
   ]
  },
  {
   "cell_type": "code",
   "execution_count": 70,
   "metadata": {},
   "outputs": [
    {
     "name": "stdout",
     "output_type": "stream",
     "text": [
      "Epoch 1/20\n",
      "782/782 [==============================] - 32s 40ms/step - loss: 2.8439 - accuracy: 0.1251\n",
      "Epoch 2/20\n",
      "782/782 [==============================] - 19s 24ms/step - loss: 2.6152 - accuracy: 0.1933\n",
      "Epoch 3/20\n",
      "782/782 [==============================] - 23s 29ms/step - loss: 2.5492 - accuracy: 0.2139\n",
      "Epoch 4/20\n",
      "782/782 [==============================] - 21s 27ms/step - loss: 2.5059 - accuracy: 0.2277\n",
      "Epoch 5/20\n",
      "782/782 [==============================] - 19s 25ms/step - loss: 2.4746 - accuracy: 0.2367\n",
      "Epoch 6/20\n",
      "782/782 [==============================] - 21s 26ms/step - loss: 2.4495 - accuracy: 0.2445\n",
      "Epoch 7/20\n",
      "782/782 [==============================] - 21s 27ms/step - loss: 2.4293 - accuracy: 0.2502\n",
      "Epoch 8/20\n",
      "782/782 [==============================] - 23s 30ms/step - loss: 2.4087 - accuracy: 0.2575\n",
      "Epoch 9/20\n",
      "782/782 [==============================] - 18s 23ms/step - loss: 2.3909 - accuracy: 0.2651\n",
      "Epoch 10/20\n",
      "782/782 [==============================] - 17s 22ms/step - loss: 2.3757 - accuracy: 0.2690\n",
      "Epoch 11/20\n",
      "782/782 [==============================] - 17s 21ms/step - loss: 2.3599 - accuracy: 0.2735\n",
      "Epoch 12/20\n",
      "782/782 [==============================] - 17s 21ms/step - loss: 2.3438 - accuracy: 0.2810\n",
      "Epoch 13/20\n",
      "782/782 [==============================] - 14s 17ms/step - loss: 2.3309 - accuracy: 0.2846\n",
      "Epoch 14/20\n",
      "782/782 [==============================] - 19s 24ms/step - loss: 2.3173 - accuracy: 0.2881\n",
      "Epoch 15/20\n",
      "782/782 [==============================] - 19s 24ms/step - loss: 2.3048 - accuracy: 0.2927\n",
      "Epoch 16/20\n",
      "782/782 [==============================] - 17s 22ms/step - loss: 2.2938 - accuracy: 0.2982\n",
      "Epoch 17/20\n",
      "782/782 [==============================] - 10s 13ms/step - loss: 2.2803 - accuracy: 0.3006\n",
      "Epoch 18/20\n",
      "782/782 [==============================] - 10s 13ms/step - loss: 2.2707 - accuracy: 0.3025\n",
      "Epoch 19/20\n",
      "782/782 [==============================] - 20s 26ms/step - loss: 2.2595 - accuracy: 0.3065\n",
      "Epoch 20/20\n",
      "782/782 [==============================] - 27s 35ms/step - loss: 2.2521 - accuracy: 0.3109\n"
     ]
    },
    {
     "data": {
      "text/plain": [
       "<keras.callbacks.History at 0x1e200920670>"
      ]
     },
     "execution_count": 70,
     "metadata": {},
     "output_type": "execute_result"
    }
   ],
   "source": [
    "# train the model\n",
    "model.fit(trn_images, trn_labelscoarse, epochs=20, batch_size=64) # increased epochs"
   ]
  },
  {
   "cell_type": "code",
   "execution_count": 73,
   "metadata": {},
   "outputs": [
    {
     "name": "stdout",
     "output_type": "stream",
     "text": [
      "(32, 32, 3)\n"
     ]
    },
    {
     "data": {
      "image/png": "[encoded data removed]",
      "text/plain": [
       "<Figure size 640x480 with 1 Axes>"
      ]
     },
     "metadata": {},
     "output_type": "display_data"
    },
    {
     "name": "stdout",
     "output_type": "stream",
     "text": [
      "1/1 [==============================] - 0s 68ms/step\n",
      "19\n",
      "5\n",
      "predicted label: household electrical devices\n",
      "actual label: vehicles 2\n"
     ]
    }
   ],
   "source": [
    "#get an image from the test set\n",
    "image_index = 32\n",
    "image = tst_images[:,:,:,image_index]\n",
    "print(image.shape)\n",
    "\n",
    "#display the image, note the image type is float32\n",
    "plt.imshow(image, cmap='gray')\n",
    "plt.show()\n",
    "\n",
    "#reshape the image to be in the correct format for the model\n",
    "image = image.reshape(1, 32, 32, 3)\n",
    "\n",
    "#make a prediction on the image\n",
    "prediction = model.predict(image)\n",
    "\n",
    "#print the actual label for the image\n",
    "print(tst_labelscoarse[image_index])\n",
    "\n",
    "#print the predicted label for the image\n",
    "print(np.argmax(prediction))\n",
    "\n",
    "#print the prediction names from the csv file\n",
    "print('predicted label:',labelnamescoarse[np.argmax(prediction)])\n",
    "print('actual label:',labelnamescoarse[tst_labelscoarse[image_index]])\n"
   ]
  }
 ],
 "metadata": {
  "kernelspec": {
   "display_name": "AI-General-3-10",
   "language": "python",
   "name": "python3"
  },
  "language_info": {
   "codemirror_mode": {
    "name": "ipython",
    "version": 3
   },
   "file_extension": ".py",
   "mimetype": "text/x-python",
   "name": "python",
   "nbconvert_exporter": "python",
   "pygments_lexer": "ipython3",
   "version": "3.10.13"
  }
 },
 "nbformat": 4,
 "nbformat_minor": 2
}
